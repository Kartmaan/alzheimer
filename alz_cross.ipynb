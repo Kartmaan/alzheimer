{
 "cells": [
  {
   "cell_type": "markdown",
   "metadata": {},
   "source": [
    "**Données IRM transversales chez les jeunes, les personnes d'âge moyen, les personnes âgées non démentes et démentes** : Cet ensemble consiste en une collection transversale de 416 sujets âgés de 18 à 96 ans. Pour chaque sujet, 3 ou 4 IRM individuelles pondérées en T1 obtenues en une seule séance sont incluses. Les sujets sont tous droitiers et comprennent des hommes et des femmes. 100 des sujets inclus, âgés de plus de 60 ans, ont reçu un diagnostic clinique de maladie d'Alzheimer (MA) très légère à modérée. En outre, un ensemble de données de fiabilité est inclus, comprenant 20 sujets non déments examinés lors d'une visite ultérieure dans les 90 jours suivant leur session initiale.\n",
    "\n",
    "**Données IRM longitudinales chez des personnes âgées non démentes et démentes** : Cet ensemble consiste en une collection longitudinale de 150 sujets âgés de 60 à 96 ans. Chaque sujet a été scanné lors de deux visites ou plus, séparées d'au moins un an, pour un total de 373 sessions d'imagerie. Pour chaque sujet, 3 ou 4 IRM individuelles pondérées en T1 obtenues en une seule séance sont incluses. Les sujets sont tous droitiers et comprennent des hommes et des femmes. 72 des sujets ont été caractérisés comme non déments tout au long de l'étude. 64 des sujets inclus ont été caractérisés comme déments lors de leurs visites initiales et le sont restés pour les scanners suivants, dont 51 individus atteints de la maladie d'Alzheimer légère à modérée. Quatorze autres sujets ont été caractérisés comme non déments au moment de leur visite initiale et ont été caractérisés comme déments lors d'une visite ultérieure."
   ]
  },
  {
   "cell_type": "code",
   "execution_count": 1,
   "metadata": {},
   "outputs": [],
   "source": [
    "import numpy as np\n",
    "import pandas as pd\n",
    "import matplotlib.pyplot as plt\n",
    "import seaborn as sns"
   ]
  },
  {
   "cell_type": "markdown",
   "metadata": {},
   "source": [
    "## Exploration des données"
   ]
  },
  {
   "cell_type": "code",
   "execution_count": 2,
   "metadata": {},
   "outputs": [],
   "source": [
    "# Création du dataframe\n",
    "data = pd.read_csv('oasis_cross.csv')"
   ]
  },
  {
   "cell_type": "code",
   "execution_count": 3,
   "metadata": {},
   "outputs": [
    {
     "data": {
      "text/plain": [
       "(436, 12)"
      ]
     },
     "execution_count": 3,
     "metadata": {},
     "output_type": "execute_result"
    }
   ],
   "source": [
    "# Dimensions du dataset\n",
    "data.shape"
   ]
  },
  {
   "cell_type": "markdown",
   "metadata": {},
   "source": [
    "Le dataset contient 436 lignes (patients) et 12 colonnes (caractéristiques)"
   ]
  },
  {
   "cell_type": "code",
   "execution_count": 4,
   "metadata": {},
   "outputs": [
    {
     "data": {
      "text/html": [
       "<div>\n",
       "<style scoped>\n",
       "    .dataframe tbody tr th:only-of-type {\n",
       "        vertical-align: middle;\n",
       "    }\n",
       "\n",
       "    .dataframe tbody tr th {\n",
       "        vertical-align: top;\n",
       "    }\n",
       "\n",
       "    .dataframe thead th {\n",
       "        text-align: right;\n",
       "    }\n",
       "</style>\n",
       "<table border=\"1\" class=\"dataframe\">\n",
       "  <thead>\n",
       "    <tr style=\"text-align: right;\">\n",
       "      <th></th>\n",
       "      <th>ID</th>\n",
       "      <th>M/F</th>\n",
       "      <th>Hand</th>\n",
       "      <th>Age</th>\n",
       "      <th>Educ</th>\n",
       "      <th>SES</th>\n",
       "      <th>MMSE</th>\n",
       "      <th>CDR</th>\n",
       "      <th>eTIV</th>\n",
       "      <th>nWBV</th>\n",
       "      <th>ASF</th>\n",
       "      <th>Delay</th>\n",
       "    </tr>\n",
       "  </thead>\n",
       "  <tbody>\n",
       "    <tr>\n",
       "      <th>0</th>\n",
       "      <td>OAS1_0001_MR1</td>\n",
       "      <td>F</td>\n",
       "      <td>R</td>\n",
       "      <td>74</td>\n",
       "      <td>2.0</td>\n",
       "      <td>3.0</td>\n",
       "      <td>29.0</td>\n",
       "      <td>0.0</td>\n",
       "      <td>1344</td>\n",
       "      <td>0.743</td>\n",
       "      <td>1.306</td>\n",
       "      <td>NaN</td>\n",
       "    </tr>\n",
       "    <tr>\n",
       "      <th>1</th>\n",
       "      <td>OAS1_0002_MR1</td>\n",
       "      <td>F</td>\n",
       "      <td>R</td>\n",
       "      <td>55</td>\n",
       "      <td>4.0</td>\n",
       "      <td>1.0</td>\n",
       "      <td>29.0</td>\n",
       "      <td>0.0</td>\n",
       "      <td>1147</td>\n",
       "      <td>0.810</td>\n",
       "      <td>1.531</td>\n",
       "      <td>NaN</td>\n",
       "    </tr>\n",
       "    <tr>\n",
       "      <th>2</th>\n",
       "      <td>OAS1_0003_MR1</td>\n",
       "      <td>F</td>\n",
       "      <td>R</td>\n",
       "      <td>73</td>\n",
       "      <td>4.0</td>\n",
       "      <td>3.0</td>\n",
       "      <td>27.0</td>\n",
       "      <td>0.5</td>\n",
       "      <td>1454</td>\n",
       "      <td>0.708</td>\n",
       "      <td>1.207</td>\n",
       "      <td>NaN</td>\n",
       "    </tr>\n",
       "    <tr>\n",
       "      <th>3</th>\n",
       "      <td>OAS1_0004_MR1</td>\n",
       "      <td>M</td>\n",
       "      <td>R</td>\n",
       "      <td>28</td>\n",
       "      <td>NaN</td>\n",
       "      <td>NaN</td>\n",
       "      <td>NaN</td>\n",
       "      <td>NaN</td>\n",
       "      <td>1588</td>\n",
       "      <td>0.803</td>\n",
       "      <td>1.105</td>\n",
       "      <td>NaN</td>\n",
       "    </tr>\n",
       "    <tr>\n",
       "      <th>4</th>\n",
       "      <td>OAS1_0005_MR1</td>\n",
       "      <td>M</td>\n",
       "      <td>R</td>\n",
       "      <td>18</td>\n",
       "      <td>NaN</td>\n",
       "      <td>NaN</td>\n",
       "      <td>NaN</td>\n",
       "      <td>NaN</td>\n",
       "      <td>1737</td>\n",
       "      <td>0.848</td>\n",
       "      <td>1.010</td>\n",
       "      <td>NaN</td>\n",
       "    </tr>\n",
       "  </tbody>\n",
       "</table>\n",
       "</div>"
      ],
      "text/plain": [
       "              ID M/F Hand  Age  Educ  SES  MMSE  CDR  eTIV   nWBV    ASF  \\\n",
       "0  OAS1_0001_MR1   F    R   74   2.0  3.0  29.0  0.0  1344  0.743  1.306   \n",
       "1  OAS1_0002_MR1   F    R   55   4.0  1.0  29.0  0.0  1147  0.810  1.531   \n",
       "2  OAS1_0003_MR1   F    R   73   4.0  3.0  27.0  0.5  1454  0.708  1.207   \n",
       "3  OAS1_0004_MR1   M    R   28   NaN  NaN   NaN  NaN  1588  0.803  1.105   \n",
       "4  OAS1_0005_MR1   M    R   18   NaN  NaN   NaN  NaN  1737  0.848  1.010   \n",
       "\n",
       "   Delay  \n",
       "0    NaN  \n",
       "1    NaN  \n",
       "2    NaN  \n",
       "3    NaN  \n",
       "4    NaN  "
      ]
     },
     "execution_count": 4,
     "metadata": {},
     "output_type": "execute_result"
    }
   ],
   "source": [
    "# Aperçu des 5 premières lignes du dataset\n",
    "data.head()"
   ]
  },
  {
   "cell_type": "code",
   "execution_count": 5,
   "metadata": {},
   "outputs": [
    {
     "name": "stdout",
     "output_type": "stream",
     "text": [
      "<class 'pandas.core.frame.DataFrame'>\n",
      "RangeIndex: 436 entries, 0 to 435\n",
      "Data columns (total 12 columns):\n",
      " #   Column  Non-Null Count  Dtype  \n",
      "---  ------  --------------  -----  \n",
      " 0   ID      436 non-null    object \n",
      " 1   M/F     436 non-null    object \n",
      " 2   Hand    436 non-null    object \n",
      " 3   Age     436 non-null    int64  \n",
      " 4   Educ    235 non-null    float64\n",
      " 5   SES     216 non-null    float64\n",
      " 6   MMSE    235 non-null    float64\n",
      " 7   CDR     235 non-null    float64\n",
      " 8   eTIV    436 non-null    int64  \n",
      " 9   nWBV    436 non-null    float64\n",
      " 10  ASF     436 non-null    float64\n",
      " 11  Delay   20 non-null     float64\n",
      "dtypes: float64(7), int64(2), object(3)\n",
      "memory usage: 41.0+ KB\n"
     ]
    }
   ],
   "source": [
    "# Informations sur le contenu des colonnes\n",
    "data.info()"
   ]
  },
  {
   "cell_type": "markdown",
   "metadata": {},
   "source": [
    "Un bref aperçu sur les données nous apprend qu'un certain nombre d'entre elles semblent manquantes. Essayons de chiffrer cela plus clairement."
   ]
  },
  {
   "cell_type": "code",
   "execution_count": 6,
   "metadata": {},
   "outputs": [
    {
     "data": {
      "text/plain": [
       "ID         0\n",
       "M/F        0\n",
       "Hand       0\n",
       "Age        0\n",
       "Educ     201\n",
       "SES      220\n",
       "MMSE     201\n",
       "CDR      201\n",
       "eTIV       0\n",
       "nWBV       0\n",
       "ASF        0\n",
       "Delay    416\n",
       "dtype: int64"
      ]
     },
     "execution_count": 6,
     "metadata": {},
     "output_type": "execute_result"
    }
   ],
   "source": [
    "# Nombre de données manquantes par colonne\n",
    "data.isna().sum()"
   ]
  },
  {
   "cell_type": "markdown",
   "metadata": {},
   "source": [
    "- Les colonnes `ID`, `M/F`, `Hand`, `Age`, `eTIV`, `nWBV` et `ASF` ont une excellent intégrité, elles ne contiennent aucune valeur manquante.\n",
    "- L'intégrité des colonnes `Educ`, `SES`, `MMSE` et `CDR` est plus problématique, elle présentent chacune environ 200 valeurs manquantes sur les 436 lignes, soit environ 45% du dataset\n",
    "- Les valeurs de la colonne `Delay` sont quant à elles presque systématiquement manquantes (416/436), nous allons donc choisir de la supprimer du dataframe"
   ]
  },
  {
   "cell_type": "code",
   "execution_count": 7,
   "metadata": {},
   "outputs": [],
   "source": [
    "# Suppression de la colonnes du dataframe\n",
    "data = data.drop(['Delay'], axis=1)"
   ]
  },
  {
   "cell_type": "markdown",
   "metadata": {},
   "source": [
    "Afin d'exploiter au mieux le dataset, nous allons supprimer toutes les lignes présentant au moins une donnée manquante"
   ]
  },
  {
   "cell_type": "code",
   "execution_count": 8,
   "metadata": {},
   "outputs": [],
   "source": [
    "# Suppression des lignes avec des données manquantes\n",
    "data = data.dropna(axis=0, how='any')"
   ]
  },
  {
   "cell_type": "markdown",
   "metadata": {},
   "source": [
    "Par commoditié, nous allons renommer certaines colonnes"
   ]
  },
  {
   "cell_type": "code",
   "execution_count": 9,
   "metadata": {},
   "outputs": [],
   "source": [
    "# Renommage des colonnes\n",
    "data.rename(columns= {\"M/F\" : \"genre\",\n",
    "                      \"Hand\" : \"hand\",\n",
    "                      \"Age\" : \"age\",\n",
    "                      \"Educ\" : \"educ\",\n",
    "                      \"ID\" : \"id\"},\n",
    "            inplace= True)"
   ]
  },
  {
   "cell_type": "code",
   "execution_count": 10,
   "metadata": {},
   "outputs": [
    {
     "data": {
      "text/html": [
       "<div>\n",
       "<style scoped>\n",
       "    .dataframe tbody tr th:only-of-type {\n",
       "        vertical-align: middle;\n",
       "    }\n",
       "\n",
       "    .dataframe tbody tr th {\n",
       "        vertical-align: top;\n",
       "    }\n",
       "\n",
       "    .dataframe thead th {\n",
       "        text-align: right;\n",
       "    }\n",
       "</style>\n",
       "<table border=\"1\" class=\"dataframe\">\n",
       "  <thead>\n",
       "    <tr style=\"text-align: right;\">\n",
       "      <th></th>\n",
       "      <th>id</th>\n",
       "      <th>genre</th>\n",
       "      <th>hand</th>\n",
       "      <th>age</th>\n",
       "      <th>educ</th>\n",
       "      <th>SES</th>\n",
       "      <th>MMSE</th>\n",
       "      <th>CDR</th>\n",
       "      <th>eTIV</th>\n",
       "      <th>nWBV</th>\n",
       "      <th>ASF</th>\n",
       "    </tr>\n",
       "  </thead>\n",
       "  <tbody>\n",
       "    <tr>\n",
       "      <th>0</th>\n",
       "      <td>OAS1_0001_MR1</td>\n",
       "      <td>F</td>\n",
       "      <td>R</td>\n",
       "      <td>74</td>\n",
       "      <td>2.0</td>\n",
       "      <td>3.0</td>\n",
       "      <td>29.0</td>\n",
       "      <td>0.0</td>\n",
       "      <td>1344</td>\n",
       "      <td>0.743</td>\n",
       "      <td>1.306</td>\n",
       "    </tr>\n",
       "    <tr>\n",
       "      <th>1</th>\n",
       "      <td>OAS1_0002_MR1</td>\n",
       "      <td>F</td>\n",
       "      <td>R</td>\n",
       "      <td>55</td>\n",
       "      <td>4.0</td>\n",
       "      <td>1.0</td>\n",
       "      <td>29.0</td>\n",
       "      <td>0.0</td>\n",
       "      <td>1147</td>\n",
       "      <td>0.810</td>\n",
       "      <td>1.531</td>\n",
       "    </tr>\n",
       "    <tr>\n",
       "      <th>2</th>\n",
       "      <td>OAS1_0003_MR1</td>\n",
       "      <td>F</td>\n",
       "      <td>R</td>\n",
       "      <td>73</td>\n",
       "      <td>4.0</td>\n",
       "      <td>3.0</td>\n",
       "      <td>27.0</td>\n",
       "      <td>0.5</td>\n",
       "      <td>1454</td>\n",
       "      <td>0.708</td>\n",
       "      <td>1.207</td>\n",
       "    </tr>\n",
       "    <tr>\n",
       "      <th>8</th>\n",
       "      <td>OAS1_0010_MR1</td>\n",
       "      <td>M</td>\n",
       "      <td>R</td>\n",
       "      <td>74</td>\n",
       "      <td>5.0</td>\n",
       "      <td>2.0</td>\n",
       "      <td>30.0</td>\n",
       "      <td>0.0</td>\n",
       "      <td>1636</td>\n",
       "      <td>0.689</td>\n",
       "      <td>1.073</td>\n",
       "    </tr>\n",
       "    <tr>\n",
       "      <th>9</th>\n",
       "      <td>OAS1_0011_MR1</td>\n",
       "      <td>F</td>\n",
       "      <td>R</td>\n",
       "      <td>52</td>\n",
       "      <td>3.0</td>\n",
       "      <td>2.0</td>\n",
       "      <td>30.0</td>\n",
       "      <td>0.0</td>\n",
       "      <td>1321</td>\n",
       "      <td>0.827</td>\n",
       "      <td>1.329</td>\n",
       "    </tr>\n",
       "  </tbody>\n",
       "</table>\n",
       "</div>"
      ],
      "text/plain": [
       "              id genre hand  age  educ  SES  MMSE  CDR  eTIV   nWBV    ASF\n",
       "0  OAS1_0001_MR1     F    R   74   2.0  3.0  29.0  0.0  1344  0.743  1.306\n",
       "1  OAS1_0002_MR1     F    R   55   4.0  1.0  29.0  0.0  1147  0.810  1.531\n",
       "2  OAS1_0003_MR1     F    R   73   4.0  3.0  27.0  0.5  1454  0.708  1.207\n",
       "8  OAS1_0010_MR1     M    R   74   5.0  2.0  30.0  0.0  1636  0.689  1.073\n",
       "9  OAS1_0011_MR1     F    R   52   3.0  2.0  30.0  0.0  1321  0.827  1.329"
      ]
     },
     "execution_count": 10,
     "metadata": {},
     "output_type": "execute_result"
    }
   ],
   "source": [
    "data.head()"
   ]
  },
  {
   "cell_type": "code",
   "execution_count": 11,
   "metadata": {},
   "outputs": [
    {
     "data": {
      "text/plain": [
       "(216, 11)"
      ]
     },
     "execution_count": 11,
     "metadata": {},
     "output_type": "execute_result"
    }
   ],
   "source": [
    "data.shape"
   ]
  },
  {
   "cell_type": "markdown",
   "metadata": {},
   "source": [
    "Initialement composé de 436 lignes, notre dataframe, débarassé de ses données manquantes, n'en dispose plus que de 216."
   ]
  },
  {
   "cell_type": "markdown",
   "metadata": {},
   "source": [
    "**Explication des variables**\n",
    "\n",
    "- **id** : Identifiant unique du patient\n",
    "- **genre** :\n",
    "  - F = Female\n",
    "  - M = Male\n",
    "- **hand** : Main dominante du patient\n",
    "  - R = Right\n",
    "  - L = Left\n",
    "- **age** : âge du patient\n",
    "- **educ** : Niveau d'éducation du patient\n",
    "  - 1 = less than high school grad \n",
    "  - 2 = high school grad \n",
    "  - 3 = some college \n",
    "  - 4 = college grad \n",
    "  - 5 = beyond college\n",
    "- **SES** : (SocioEconomic Status) statut socio-économique du patient\n",
    "  - 1 = Très bas\n",
    "  - 2 = Bas\n",
    "  - 3 = Moyen\n",
    "  - 4 = Haut\n",
    "  - 5 = Très haut\n",
    "- **MMSE** : (Mini Mental State Examination) Evaluation rapide de l'état cognitif du patient\n",
    "  - +=27 = Atteinte nulle\n",
    "  - 21-26 = Atteinte légère\n",
    "  - 11-20 = Atteinte modérée\n",
    "  - <=10 = Atteinte sévère\n",
    "- **CDR** : (Clinical Dementia Rating)\n",
    "  - 0 = Absence de trouble\n",
    "  - 0.5 = Troubles incertaines\n",
    "  - 1 = Troubles bénins\n",
    "  - 2 = Troubles modérés\n",
    "  - 3 = Troubles sévères\n",
    "- **eTIV** : (Estimated Total Intracranial Volume) Volume total du crâne qui contient le cerveau, le LCR et les méninges\n",
    "- **nWBV** : (Normalize Whole Brain Volume) Mesure qui permet de standardiser le volume total du cerveau d'un individu en le rapportant à une référence, généralement l'eTIV. En d'autres termes, le nWBV exprime le volume cérébral en rapport du volume total du crâne (eTIV)\n",
    "- **ASF** (Atlas Scaling Factor) Facteur utilisé dans la recherche en neuroimagerie pour normaliser les mesures cérébrales entre les individus tout en tenant compte des différences de taille et de forme de la tête. Il garantit la cohérence des comparaisons et des analyses, en particulier dans les études sur la prédiction et la recherche concernant la maladie d'Alzheimer"
   ]
  },
  {
   "cell_type": "code",
   "execution_count": 12,
   "metadata": {},
   "outputs": [
    {
     "data": {
      "text/html": [
       "<div>\n",
       "<style scoped>\n",
       "    .dataframe tbody tr th:only-of-type {\n",
       "        vertical-align: middle;\n",
       "    }\n",
       "\n",
       "    .dataframe tbody tr th {\n",
       "        vertical-align: top;\n",
       "    }\n",
       "\n",
       "    .dataframe thead th {\n",
       "        text-align: right;\n",
       "    }\n",
       "</style>\n",
       "<table border=\"1\" class=\"dataframe\">\n",
       "  <thead>\n",
       "    <tr style=\"text-align: right;\">\n",
       "      <th></th>\n",
       "      <th>age</th>\n",
       "      <th>educ</th>\n",
       "      <th>SES</th>\n",
       "      <th>MMSE</th>\n",
       "      <th>CDR</th>\n",
       "      <th>eTIV</th>\n",
       "      <th>nWBV</th>\n",
       "      <th>ASF</th>\n",
       "    </tr>\n",
       "  </thead>\n",
       "  <tbody>\n",
       "    <tr>\n",
       "      <th>count</th>\n",
       "      <td>216.000000</td>\n",
       "      <td>216.000000</td>\n",
       "      <td>216.000000</td>\n",
       "      <td>216.000000</td>\n",
       "      <td>216.000000</td>\n",
       "      <td>216.000000</td>\n",
       "      <td>216.000000</td>\n",
       "      <td>216.000000</td>\n",
       "    </tr>\n",
       "    <tr>\n",
       "      <th>mean</th>\n",
       "      <td>72.444444</td>\n",
       "      <td>3.231481</td>\n",
       "      <td>2.490741</td>\n",
       "      <td>27.324074</td>\n",
       "      <td>0.261574</td>\n",
       "      <td>1458.638889</td>\n",
       "      <td>0.750500</td>\n",
       "      <td>1.217176</td>\n",
       "    </tr>\n",
       "    <tr>\n",
       "      <th>std</th>\n",
       "      <td>12.306424</td>\n",
       "      <td>1.333689</td>\n",
       "      <td>1.120593</td>\n",
       "      <td>3.436680</td>\n",
       "      <td>0.382593</td>\n",
       "      <td>160.523125</td>\n",
       "      <td>0.048271</td>\n",
       "      <td>0.128858</td>\n",
       "    </tr>\n",
       "    <tr>\n",
       "      <th>min</th>\n",
       "      <td>33.000000</td>\n",
       "      <td>1.000000</td>\n",
       "      <td>1.000000</td>\n",
       "      <td>15.000000</td>\n",
       "      <td>0.000000</td>\n",
       "      <td>1123.000000</td>\n",
       "      <td>0.644000</td>\n",
       "      <td>0.881000</td>\n",
       "    </tr>\n",
       "    <tr>\n",
       "      <th>25%</th>\n",
       "      <td>66.000000</td>\n",
       "      <td>2.000000</td>\n",
       "      <td>2.000000</td>\n",
       "      <td>26.000000</td>\n",
       "      <td>0.000000</td>\n",
       "      <td>1346.000000</td>\n",
       "      <td>0.715000</td>\n",
       "      <td>1.141750</td>\n",
       "    </tr>\n",
       "    <tr>\n",
       "      <th>50%</th>\n",
       "      <td>73.000000</td>\n",
       "      <td>3.000000</td>\n",
       "      <td>2.000000</td>\n",
       "      <td>29.000000</td>\n",
       "      <td>0.000000</td>\n",
       "      <td>1445.500000</td>\n",
       "      <td>0.748500</td>\n",
       "      <td>1.214500</td>\n",
       "    </tr>\n",
       "    <tr>\n",
       "      <th>75%</th>\n",
       "      <td>81.000000</td>\n",
       "      <td>4.000000</td>\n",
       "      <td>3.000000</td>\n",
       "      <td>30.000000</td>\n",
       "      <td>0.500000</td>\n",
       "      <td>1536.500000</td>\n",
       "      <td>0.786000</td>\n",
       "      <td>1.304000</td>\n",
       "    </tr>\n",
       "    <tr>\n",
       "      <th>max</th>\n",
       "      <td>96.000000</td>\n",
       "      <td>5.000000</td>\n",
       "      <td>5.000000</td>\n",
       "      <td>30.000000</td>\n",
       "      <td>2.000000</td>\n",
       "      <td>1992.000000</td>\n",
       "      <td>0.841000</td>\n",
       "      <td>1.563000</td>\n",
       "    </tr>\n",
       "  </tbody>\n",
       "</table>\n",
       "</div>"
      ],
      "text/plain": [
       "              age        educ         SES        MMSE         CDR  \\\n",
       "count  216.000000  216.000000  216.000000  216.000000  216.000000   \n",
       "mean    72.444444    3.231481    2.490741   27.324074    0.261574   \n",
       "std     12.306424    1.333689    1.120593    3.436680    0.382593   \n",
       "min     33.000000    1.000000    1.000000   15.000000    0.000000   \n",
       "25%     66.000000    2.000000    2.000000   26.000000    0.000000   \n",
       "50%     73.000000    3.000000    2.000000   29.000000    0.000000   \n",
       "75%     81.000000    4.000000    3.000000   30.000000    0.500000   \n",
       "max     96.000000    5.000000    5.000000   30.000000    2.000000   \n",
       "\n",
       "              eTIV        nWBV         ASF  \n",
       "count   216.000000  216.000000  216.000000  \n",
       "mean   1458.638889    0.750500    1.217176  \n",
       "std     160.523125    0.048271    0.128858  \n",
       "min    1123.000000    0.644000    0.881000  \n",
       "25%    1346.000000    0.715000    1.141750  \n",
       "50%    1445.500000    0.748500    1.214500  \n",
       "75%    1536.500000    0.786000    1.304000  \n",
       "max    1992.000000    0.841000    1.563000  "
      ]
     },
     "execution_count": 12,
     "metadata": {},
     "output_type": "execute_result"
    }
   ],
   "source": [
    "data.describe()"
   ]
  },
  {
   "cell_type": "code",
   "execution_count": 13,
   "metadata": {},
   "outputs": [
    {
     "data": {
      "text/html": [
       "<div>\n",
       "<style scoped>\n",
       "    .dataframe tbody tr th:only-of-type {\n",
       "        vertical-align: middle;\n",
       "    }\n",
       "\n",
       "    .dataframe tbody tr th {\n",
       "        vertical-align: top;\n",
       "    }\n",
       "\n",
       "    .dataframe thead th {\n",
       "        text-align: right;\n",
       "    }\n",
       "</style>\n",
       "<table border=\"1\" class=\"dataframe\">\n",
       "  <thead>\n",
       "    <tr style=\"text-align: right;\">\n",
       "      <th></th>\n",
       "      <th>id</th>\n",
       "      <th>genre</th>\n",
       "      <th>hand</th>\n",
       "      <th>age</th>\n",
       "      <th>educ</th>\n",
       "      <th>SES</th>\n",
       "      <th>MMSE</th>\n",
       "      <th>CDR</th>\n",
       "      <th>eTIV</th>\n",
       "      <th>nWBV</th>\n",
       "      <th>ASF</th>\n",
       "    </tr>\n",
       "  </thead>\n",
       "  <tbody>\n",
       "    <tr>\n",
       "      <th>0</th>\n",
       "      <td>OAS1_0001_MR1</td>\n",
       "      <td>F</td>\n",
       "      <td>R</td>\n",
       "      <td>74</td>\n",
       "      <td>2.0</td>\n",
       "      <td>3.0</td>\n",
       "      <td>29.0</td>\n",
       "      <td>0.0</td>\n",
       "      <td>1344</td>\n",
       "      <td>0.743</td>\n",
       "      <td>1.306</td>\n",
       "    </tr>\n",
       "    <tr>\n",
       "      <th>1</th>\n",
       "      <td>OAS1_0002_MR1</td>\n",
       "      <td>F</td>\n",
       "      <td>R</td>\n",
       "      <td>55</td>\n",
       "      <td>4.0</td>\n",
       "      <td>1.0</td>\n",
       "      <td>29.0</td>\n",
       "      <td>0.0</td>\n",
       "      <td>1147</td>\n",
       "      <td>0.810</td>\n",
       "      <td>1.531</td>\n",
       "    </tr>\n",
       "    <tr>\n",
       "      <th>2</th>\n",
       "      <td>OAS1_0003_MR1</td>\n",
       "      <td>F</td>\n",
       "      <td>R</td>\n",
       "      <td>73</td>\n",
       "      <td>4.0</td>\n",
       "      <td>3.0</td>\n",
       "      <td>27.0</td>\n",
       "      <td>0.5</td>\n",
       "      <td>1454</td>\n",
       "      <td>0.708</td>\n",
       "      <td>1.207</td>\n",
       "    </tr>\n",
       "    <tr>\n",
       "      <th>8</th>\n",
       "      <td>OAS1_0010_MR1</td>\n",
       "      <td>M</td>\n",
       "      <td>R</td>\n",
       "      <td>74</td>\n",
       "      <td>5.0</td>\n",
       "      <td>2.0</td>\n",
       "      <td>30.0</td>\n",
       "      <td>0.0</td>\n",
       "      <td>1636</td>\n",
       "      <td>0.689</td>\n",
       "      <td>1.073</td>\n",
       "    </tr>\n",
       "    <tr>\n",
       "      <th>9</th>\n",
       "      <td>OAS1_0011_MR1</td>\n",
       "      <td>F</td>\n",
       "      <td>R</td>\n",
       "      <td>52</td>\n",
       "      <td>3.0</td>\n",
       "      <td>2.0</td>\n",
       "      <td>30.0</td>\n",
       "      <td>0.0</td>\n",
       "      <td>1321</td>\n",
       "      <td>0.827</td>\n",
       "      <td>1.329</td>\n",
       "    </tr>\n",
       "  </tbody>\n",
       "</table>\n",
       "</div>"
      ],
      "text/plain": [
       "              id genre hand  age  educ  SES  MMSE  CDR  eTIV   nWBV    ASF\n",
       "0  OAS1_0001_MR1     F    R   74   2.0  3.0  29.0  0.0  1344  0.743  1.306\n",
       "1  OAS1_0002_MR1     F    R   55   4.0  1.0  29.0  0.0  1147  0.810  1.531\n",
       "2  OAS1_0003_MR1     F    R   73   4.0  3.0  27.0  0.5  1454  0.708  1.207\n",
       "8  OAS1_0010_MR1     M    R   74   5.0  2.0  30.0  0.0  1636  0.689  1.073\n",
       "9  OAS1_0011_MR1     F    R   52   3.0  2.0  30.0  0.0  1321  0.827  1.329"
      ]
     },
     "execution_count": 13,
     "metadata": {},
     "output_type": "execute_result"
    }
   ],
   "source": [
    "data.head()"
   ]
  },
  {
   "cell_type": "code",
   "execution_count": 14,
   "metadata": {},
   "outputs": [
    {
     "data": {
      "image/png": "[encoded data removed]",
      "text/plain": [
       "<Figure size 900x600 with 2 Axes>"
      ]
     },
     "metadata": {},
     "output_type": "display_data"
    }
   ],
   "source": [
    "corr = data.select_dtypes(include=['int', 'float']).corr()\n",
    "plt.figure(figsize=(9, 6))\n",
    "sns.heatmap(corr, annot=True, fmt='.2f', linewidths=0.5, cmap='rocket', mask=np.triu(corr))\n",
    "plt.show()"
   ]
  }
 ],
 "metadata": {
  "kernelspec": {
   "display_name": "base",
   "language": "python",
   "name": "python3"
  },
  "language_info": {
   "codemirror_mode": {
    "name": "ipython",
    "version": 3
   },
   "file_extension": ".py",
   "mimetype": "text/x-python",
   "name": "python",
   "nbconvert_exporter": "python",
   "pygments_lexer": "ipython3",
   "version": "3.11.9"
  }
 },
 "nbformat": 4,
 "nbformat_minor": 2
}
